{
 "cells": [
  {
   "cell_type": "code",
   "execution_count": 63,
   "metadata": {},
   "outputs": [],
   "source": [
    "import pandas as pd\n",
    "from sqlalchemy import create_engine\n",
    "import psycopg2"
   ]
  },
  {
   "cell_type": "code",
   "execution_count": 64,
   "metadata": {},
   "outputs": [],
   "source": [
    "csv_file = \"athlete_events.csv\"\n",
    "olypmic_df = pd.read_csv(csv_file)\n",
    "olypmic_df = olypmic_df.drop(['Weight'], axis=1)"
   ]
  },
  {
   "cell_type": "code",
   "execution_count": 65,
   "metadata": {},
   "outputs": [],
   "source": [
    "olypmic_df.Height=olypmic_df.Height.fillna(value=0)"
   ]
  },
  {
   "cell_type": "code",
   "execution_count": 66,
   "metadata": {},
   "outputs": [],
   "source": [
    "countires = olypmic_df.Team.unique()\n",
    "countryNoc =  olypmic_df.NOC.unique()\n",
    "olypmic_df.Medal=olypmic_df.Medal.fillna(value=\"no_medal\")"
   ]
  },
  {
   "cell_type": "code",
   "execution_count": 67,
   "metadata": {},
   "outputs": [
    {
     "name": "stdout",
     "output_type": "stream",
     "text": [
      "230 230\n"
     ]
    }
   ],
   "source": [
    "country_gold_list = list()\n",
    "country_silver_list = list()\n",
    "country_bronze_list = list()\n",
    "\n",
    "for val in countryNoc:\n",
    "    newdf = olypmic_df.loc[olypmic_df.NOC==val]\n",
    "    country_gold_list.append(len(newdf.loc[newdf.Medal==\"Gold\"]))\n",
    "for val in countryNoc:\n",
    "    newdf = olypmic_df.loc[olypmic_df.NOC==val]\n",
    "    country_silver_list.append(len(newdf.loc[newdf.Medal==\"Silver\"]))\n",
    "for val in countryNoc:\n",
    "    newdf = olypmic_df.loc[olypmic_df.NOC==val]\n",
    "    country_bronze_list.append(len(newdf.loc[newdf.Medal==\"Bronze\"]))\n",
    "\n",
    "print(len(country_gold_list),len(country_silver_list))"
   ]
  },
  {
   "cell_type": "code",
   "execution_count": 68,
   "metadata": {},
   "outputs": [
    {
     "data": {
      "text/html": [
       "<div>\n",
       "<style scoped>\n",
       "    .dataframe tbody tr th:only-of-type {\n",
       "        vertical-align: middle;\n",
       "    }\n",
       "\n",
       "    .dataframe tbody tr th {\n",
       "        vertical-align: top;\n",
       "    }\n",
       "\n",
       "    .dataframe thead th {\n",
       "        text-align: right;\n",
       "    }\n",
       "</style>\n",
       "<table border=\"1\" class=\"dataframe\">\n",
       "  <thead>\n",
       "    <tr style=\"text-align: right;\">\n",
       "      <th></th>\n",
       "      <th>NOC</th>\n",
       "      <th>Gold_Medals</th>\n",
       "      <th>Silver_Medals</th>\n",
       "      <th>Bronze_Medals</th>\n",
       "      <th>Total_Medals</th>\n",
       "    </tr>\n",
       "  </thead>\n",
       "  <tbody>\n",
       "    <tr>\n",
       "      <th>0</th>\n",
       "      <td>CHN</td>\n",
       "      <td>350</td>\n",
       "      <td>347</td>\n",
       "      <td>292</td>\n",
       "      <td>989</td>\n",
       "    </tr>\n",
       "    <tr>\n",
       "      <th>1</th>\n",
       "      <td>DEN</td>\n",
       "      <td>179</td>\n",
       "      <td>241</td>\n",
       "      <td>177</td>\n",
       "      <td>597</td>\n",
       "    </tr>\n",
       "    <tr>\n",
       "      <th>2</th>\n",
       "      <td>NED</td>\n",
       "      <td>287</td>\n",
       "      <td>340</td>\n",
       "      <td>413</td>\n",
       "      <td>1040</td>\n",
       "    </tr>\n",
       "    <tr>\n",
       "      <th>3</th>\n",
       "      <td>USA</td>\n",
       "      <td>2638</td>\n",
       "      <td>1641</td>\n",
       "      <td>1358</td>\n",
       "      <td>5637</td>\n",
       "    </tr>\n",
       "    <tr>\n",
       "      <th>4</th>\n",
       "      <td>FIN</td>\n",
       "      <td>198</td>\n",
       "      <td>270</td>\n",
       "      <td>432</td>\n",
       "      <td>900</td>\n",
       "    </tr>\n",
       "    <tr>\n",
       "      <th>...</th>\n",
       "      <td>...</td>\n",
       "      <td>...</td>\n",
       "      <td>...</td>\n",
       "      <td>...</td>\n",
       "      <td>...</td>\n",
       "    </tr>\n",
       "    <tr>\n",
       "      <th>225</th>\n",
       "      <td>TUV</td>\n",
       "      <td>0</td>\n",
       "      <td>0</td>\n",
       "      <td>0</td>\n",
       "      <td>0</td>\n",
       "    </tr>\n",
       "    <tr>\n",
       "      <th>226</th>\n",
       "      <td>NFL</td>\n",
       "      <td>0</td>\n",
       "      <td>0</td>\n",
       "      <td>0</td>\n",
       "      <td>0</td>\n",
       "    </tr>\n",
       "    <tr>\n",
       "      <th>227</th>\n",
       "      <td>KOS</td>\n",
       "      <td>1</td>\n",
       "      <td>0</td>\n",
       "      <td>0</td>\n",
       "      <td>1</td>\n",
       "    </tr>\n",
       "    <tr>\n",
       "      <th>228</th>\n",
       "      <td>SSD</td>\n",
       "      <td>0</td>\n",
       "      <td>0</td>\n",
       "      <td>0</td>\n",
       "      <td>0</td>\n",
       "    </tr>\n",
       "    <tr>\n",
       "      <th>229</th>\n",
       "      <td>LES</td>\n",
       "      <td>0</td>\n",
       "      <td>0</td>\n",
       "      <td>0</td>\n",
       "      <td>0</td>\n",
       "    </tr>\n",
       "  </tbody>\n",
       "</table>\n",
       "<p>230 rows × 5 columns</p>\n",
       "</div>"
      ],
      "text/plain": [
       "     NOC  Gold_Medals  Silver_Medals  Bronze_Medals  Total_Medals\n",
       "0    CHN          350            347            292           989\n",
       "1    DEN          179            241            177           597\n",
       "2    NED          287            340            413          1040\n",
       "3    USA         2638           1641           1358          5637\n",
       "4    FIN          198            270            432           900\n",
       "..   ...          ...            ...            ...           ...\n",
       "225  TUV            0              0              0             0\n",
       "226  NFL            0              0              0             0\n",
       "227  KOS            1              0              0             1\n",
       "228  SSD            0              0              0             0\n",
       "229  LES            0              0              0             0\n",
       "\n",
       "[230 rows x 5 columns]"
      ]
     },
     "execution_count": 68,
     "metadata": {},
     "output_type": "execute_result"
    }
   ],
   "source": [
    "country_medal_df = pd.DataFrame(countryNoc)\n",
    "country_medal_df[\"Gold_Medals\"]=country_gold_list\n",
    "country_medal_df[\"Silver_Medals\"]=country_silver_list\n",
    "country_medal_df[\"Bronze_Medals\"]=country_bronze_list\n",
    "\n",
    "country_medal_df=country_medal_df.rename(columns={0:\"NOC\"})\n",
    "country_medal_df[\"Total_Medals\"]=country_medal_df.sum(axis=1)\n",
    "country_medal_df"
   ]
  },
  {
   "cell_type": "code",
   "execution_count": 69,
   "metadata": {},
   "outputs": [],
   "source": [
    "heights_df = olypmic_df[olypmic_df.Height>0]\n",
    "heights_m_df =  heights_df[heights_df.Sex==\"M\"]\n",
    "heights_f_df =  heights_df[heights_df.Sex==\"F\"]"
   ]
  },
  {
   "cell_type": "code",
   "execution_count": 70,
   "metadata": {},
   "outputs": [],
   "source": [
    "m_avg_h=heights_m_df.groupby(\"Year\")[\"Height\"].mean()\n",
    "f_avg_h=heights_f_df.groupby(\"Year\")[\"Height\"].mean()\n",
    "mheight_df =  pd.DataFrame(m_avg_h)\n",
    "fheight_df =  pd.DataFrame(f_avg_h)"
   ]
  },
  {
   "cell_type": "code",
   "execution_count": 71,
   "metadata": {},
   "outputs": [],
   "source": [
    "mheight_df['Female_Height']=fheight_df.Height\n",
    "combined_height=mheight_df.rename(columns={\"Height\":\"Male_Height\"})"
   ]
  },
  {
   "cell_type": "code",
   "execution_count": 72,
   "metadata": {},
   "outputs": [],
   "source": [
    "#olypmic_df.to_csv(\"olympic_data.csv\")\n",
    "#country_medal_df.to_csv(\"country_medal.csv\")\n",
    "#combined_height.to_csv(\"combined_height_avg.csv\")\n",
    "combined_height=combined_height.rename(columns={\"Year\":\"year\",\"Male_Height\":\"male_height\",\"Female_Height\":\"female_height\"})"
   ]
  },
  {
   "cell_type": "code",
   "execution_count": 79,
   "metadata": {},
   "outputs": [
    {
     "data": {
      "text/html": [
       "<div>\n",
       "<style scoped>\n",
       "    .dataframe tbody tr th:only-of-type {\n",
       "        vertical-align: middle;\n",
       "    }\n",
       "\n",
       "    .dataframe tbody tr th {\n",
       "        vertical-align: top;\n",
       "    }\n",
       "\n",
       "    .dataframe thead th {\n",
       "        text-align: right;\n",
       "    }\n",
       "</style>\n",
       "<table border=\"1\" class=\"dataframe\">\n",
       "  <thead>\n",
       "    <tr style=\"text-align: right;\">\n",
       "      <th></th>\n",
       "      <th>NOC</th>\n",
       "      <th>Gold_Medals</th>\n",
       "      <th>Silver_Medals</th>\n",
       "      <th>Bronze_Medals</th>\n",
       "      <th>Total_Medals</th>\n",
       "    </tr>\n",
       "  </thead>\n",
       "  <tbody>\n",
       "    <tr>\n",
       "      <th>0</th>\n",
       "      <td>CHN</td>\n",
       "      <td>350</td>\n",
       "      <td>347</td>\n",
       "      <td>292</td>\n",
       "      <td>989</td>\n",
       "    </tr>\n",
       "    <tr>\n",
       "      <th>1</th>\n",
       "      <td>DEN</td>\n",
       "      <td>179</td>\n",
       "      <td>241</td>\n",
       "      <td>177</td>\n",
       "      <td>597</td>\n",
       "    </tr>\n",
       "    <tr>\n",
       "      <th>2</th>\n",
       "      <td>NED</td>\n",
       "      <td>287</td>\n",
       "      <td>340</td>\n",
       "      <td>413</td>\n",
       "      <td>1040</td>\n",
       "    </tr>\n",
       "    <tr>\n",
       "      <th>3</th>\n",
       "      <td>USA</td>\n",
       "      <td>2638</td>\n",
       "      <td>1641</td>\n",
       "      <td>1358</td>\n",
       "      <td>5637</td>\n",
       "    </tr>\n",
       "    <tr>\n",
       "      <th>4</th>\n",
       "      <td>FIN</td>\n",
       "      <td>198</td>\n",
       "      <td>270</td>\n",
       "      <td>432</td>\n",
       "      <td>900</td>\n",
       "    </tr>\n",
       "  </tbody>\n",
       "</table>\n",
       "</div>"
      ],
      "text/plain": [
       "   NOC  Gold_Medals  Silver_Medals  Bronze_Medals  Total_Medals\n",
       "0  CHN          350            347            292           989\n",
       "1  DEN          179            241            177           597\n",
       "2  NED          287            340            413          1040\n",
       "3  USA         2638           1641           1358          5637\n",
       "4  FIN          198            270            432           900"
      ]
     },
     "execution_count": 79,
     "metadata": {},
     "output_type": "execute_result"
    }
   ],
   "source": [
    "x=len(combined_height.male_height)\n",
    "val=[]\n",
    "t=0\n",
    "while t < x:\n",
    "    val.append(t+1)\n",
    "    t+=1\n",
    "val\n",
    "combined_height[\"id\"]=val\n",
    "combined_height[\"year\"]=combined_height.index\n",
    "combined_height=combined_height.set_index('id')\n",
    "country_medal_df.head()"
   ]
  },
  {
   "cell_type": "code",
   "execution_count": 80,
   "metadata": {},
   "outputs": [
    {
     "data": {
      "text/html": [
       "<div>\n",
       "<style scoped>\n",
       "    .dataframe tbody tr th:only-of-type {\n",
       "        vertical-align: middle;\n",
       "    }\n",
       "\n",
       "    .dataframe tbody tr th {\n",
       "        vertical-align: top;\n",
       "    }\n",
       "\n",
       "    .dataframe thead th {\n",
       "        text-align: right;\n",
       "    }\n",
       "</style>\n",
       "<table border=\"1\" class=\"dataframe\">\n",
       "  <thead>\n",
       "    <tr style=\"text-align: right;\">\n",
       "      <th></th>\n",
       "      <th>NOC</th>\n",
       "      <th>Gold_Medals</th>\n",
       "      <th>Silver_Medals</th>\n",
       "      <th>Bronze_Medals</th>\n",
       "      <th>Total_Medals</th>\n",
       "    </tr>\n",
       "    <tr>\n",
       "      <th>id</th>\n",
       "      <th></th>\n",
       "      <th></th>\n",
       "      <th></th>\n",
       "      <th></th>\n",
       "      <th></th>\n",
       "    </tr>\n",
       "  </thead>\n",
       "  <tbody>\n",
       "    <tr>\n",
       "      <th>1</th>\n",
       "      <td>CHN</td>\n",
       "      <td>350</td>\n",
       "      <td>347</td>\n",
       "      <td>292</td>\n",
       "      <td>989</td>\n",
       "    </tr>\n",
       "    <tr>\n",
       "      <th>2</th>\n",
       "      <td>DEN</td>\n",
       "      <td>179</td>\n",
       "      <td>241</td>\n",
       "      <td>177</td>\n",
       "      <td>597</td>\n",
       "    </tr>\n",
       "    <tr>\n",
       "      <th>3</th>\n",
       "      <td>NED</td>\n",
       "      <td>287</td>\n",
       "      <td>340</td>\n",
       "      <td>413</td>\n",
       "      <td>1040</td>\n",
       "    </tr>\n",
       "    <tr>\n",
       "      <th>4</th>\n",
       "      <td>USA</td>\n",
       "      <td>2638</td>\n",
       "      <td>1641</td>\n",
       "      <td>1358</td>\n",
       "      <td>5637</td>\n",
       "    </tr>\n",
       "    <tr>\n",
       "      <th>5</th>\n",
       "      <td>FIN</td>\n",
       "      <td>198</td>\n",
       "      <td>270</td>\n",
       "      <td>432</td>\n",
       "      <td>900</td>\n",
       "    </tr>\n",
       "  </tbody>\n",
       "</table>\n",
       "</div>"
      ],
      "text/plain": [
       "    NOC  Gold_Medals  Silver_Medals  Bronze_Medals  Total_Medals\n",
       "id                                                              \n",
       "1   CHN          350            347            292           989\n",
       "2   DEN          179            241            177           597\n",
       "3   NED          287            340            413          1040\n",
       "4   USA         2638           1641           1358          5637\n",
       "5   FIN          198            270            432           900"
      ]
     },
     "execution_count": 80,
     "metadata": {},
     "output_type": "execute_result"
    }
   ],
   "source": [
    "val=[]\n",
    "x = len(country_medal_df.NOC)\n",
    "val=[]\n",
    "t=0\n",
    "while t<x:\n",
    "    val.append(t+1)\n",
    "    t+=1\n",
    "country_medal_df['id']=val\n",
    "country_medal_df=country_medal_df.set_index('id')\n",
    "country_medal_df.head()"
   ]
  },
  {
   "cell_type": "code",
   "execution_count": 74,
   "metadata": {},
   "outputs": [],
   "source": [
    "rds_connection_string = \"postgres:postgres@localhost:5432/olympic_stats\"\n",
    "engine = create_engine(f'postgresql://{rds_connection_string}')"
   ]
  },
  {
   "cell_type": "code",
   "execution_count": 75,
   "metadata": {},
   "outputs": [
    {
     "data": {
      "text/plain": [
       "['country_medal_stats', 'combined_height']"
      ]
     },
     "execution_count": 75,
     "metadata": {},
     "output_type": "execute_result"
    }
   ],
   "source": [
    "engine.table_names()"
   ]
  },
  {
   "cell_type": "code",
   "execution_count": 76,
   "metadata": {},
   "outputs": [],
   "source": [
    "combined_height.to_sql(name='combined_height_average', con=engine, if_exists='append', index=True)"
   ]
  },
  {
   "cell_type": "code",
   "execution_count": 81,
   "metadata": {},
   "outputs": [],
   "source": [
    "country_medal_df.to_sql(name='country_medal_stats', con=engine, if_exists='append', index=True)"
   ]
  },
  {
   "cell_type": "code",
   "execution_count": null,
   "metadata": {},
   "outputs": [],
   "source": []
  }
 ],
 "metadata": {
  "kernelspec": {
   "display_name": "Python 3",
   "language": "python",
   "name": "python3"
  },
  "language_info": {
   "codemirror_mode": {
    "name": "ipython",
    "version": 3
   },
   "file_extension": ".py",
   "mimetype": "text/x-python",
   "name": "python",
   "nbconvert_exporter": "python",
   "pygments_lexer": "ipython3",
   "version": "3.8.3"
  }
 },
 "nbformat": 4,
 "nbformat_minor": 4
}
