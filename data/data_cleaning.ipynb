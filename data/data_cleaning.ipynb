{
 "cells": [
  {
   "cell_type": "code",
   "execution_count": 177,
   "metadata": {},
   "outputs": [],
   "source": [
    "#import necessary libaries\n",
    "import pandas as pd\n",
    "from sqlalchemy import create_engine\n",
    "import psycopg2"
   ]
  },
  {
   "cell_type": "code",
   "execution_count": 178,
   "metadata": {},
   "outputs": [],
   "source": [
    "#load the csv file and drop the weight column\n",
    "csv_file = \"athlete_events.csv\"\n",
    "olypmic_df = pd.read_csv(csv_file)\n",
    "olypmic_df = olypmic_df.drop(['Weight'], axis=1)"
   ]
  },
  {
   "cell_type": "code",
   "execution_count": 179,
   "metadata": {},
   "outputs": [],
   "source": [
    "#fill na types in height data type with 0's to be filterable\n",
    "olypmic_df.Height=olypmic_df.Height.fillna(value=0)"
   ]
  },
  {
   "cell_type": "code",
   "execution_count": 180,
   "metadata": {},
   "outputs": [],
   "source": [
    "#capture unique names of countries and their NOC abbreviation\n",
    "countires = olypmic_df.Team.unique()\n",
    "countryNoc =  olypmic_df.NOC.unique()\n",
    "#fill na types with no medal in 'medals' column to be filterable\n",
    "olypmic_df.Medal=olypmic_df.Medal.fillna(value=\"no_medal\")"
   ]
  },
  {
   "cell_type": "code",
   "execution_count": 181,
   "metadata": {},
   "outputs": [
    {
     "name": "stdout",
     "output_type": "stream",
     "text": [
      "230 230\n"
     ]
    }
   ],
   "source": [
    "#creates 3 lists that hold the numbers of medals each country has earned\n",
    "country_gold_list = list()\n",
    "country_silver_list = list()\n",
    "country_bronze_list = list()\n",
    "\n",
    "for val in countryNoc:\n",
    "    newdf = olypmic_df.loc[olypmic_df.NOC==val]\n",
    "    country_gold_list.append(len(newdf.loc[newdf.Medal==\"Gold\"]))\n",
    "for val in countryNoc:\n",
    "    newdf = olypmic_df.loc[olypmic_df.NOC==val]\n",
    "    country_silver_list.append(len(newdf.loc[newdf.Medal==\"Silver\"]))\n",
    "for val in countryNoc:\n",
    "    newdf = olypmic_df.loc[olypmic_df.NOC==val]\n",
    "    country_bronze_list.append(len(newdf.loc[newdf.Medal==\"Bronze\"]))"
   ]
  },
  {
   "cell_type": "code",
   "execution_count": 182,
   "metadata": {},
   "outputs": [
    {
     "data": {
      "text/html": [
       "<div>\n",
       "<style scoped>\n",
       "    .dataframe tbody tr th:only-of-type {\n",
       "        vertical-align: middle;\n",
       "    }\n",
       "\n",
       "    .dataframe tbody tr th {\n",
       "        vertical-align: top;\n",
       "    }\n",
       "\n",
       "    .dataframe thead th {\n",
       "        text-align: right;\n",
       "    }\n",
       "</style>\n",
       "<table border=\"1\" class=\"dataframe\">\n",
       "  <thead>\n",
       "    <tr style=\"text-align: right;\">\n",
       "      <th></th>\n",
       "      <th>NOC</th>\n",
       "      <th>Gold_Medals</th>\n",
       "      <th>Silver_Medals</th>\n",
       "      <th>Bronze_Medals</th>\n",
       "      <th>Total_Medals</th>\n",
       "    </tr>\n",
       "  </thead>\n",
       "  <tbody>\n",
       "    <tr>\n",
       "      <th>0</th>\n",
       "      <td>CHN</td>\n",
       "      <td>350</td>\n",
       "      <td>347</td>\n",
       "      <td>292</td>\n",
       "      <td>989</td>\n",
       "    </tr>\n",
       "    <tr>\n",
       "      <th>1</th>\n",
       "      <td>DEN</td>\n",
       "      <td>179</td>\n",
       "      <td>241</td>\n",
       "      <td>177</td>\n",
       "      <td>597</td>\n",
       "    </tr>\n",
       "    <tr>\n",
       "      <th>2</th>\n",
       "      <td>NED</td>\n",
       "      <td>287</td>\n",
       "      <td>340</td>\n",
       "      <td>413</td>\n",
       "      <td>1040</td>\n",
       "    </tr>\n",
       "    <tr>\n",
       "      <th>3</th>\n",
       "      <td>USA</td>\n",
       "      <td>2638</td>\n",
       "      <td>1641</td>\n",
       "      <td>1358</td>\n",
       "      <td>5637</td>\n",
       "    </tr>\n",
       "    <tr>\n",
       "      <th>4</th>\n",
       "      <td>FIN</td>\n",
       "      <td>198</td>\n",
       "      <td>270</td>\n",
       "      <td>432</td>\n",
       "      <td>900</td>\n",
       "    </tr>\n",
       "  </tbody>\n",
       "</table>\n",
       "</div>"
      ],
      "text/plain": [
       "   NOC  Gold_Medals  Silver_Medals  Bronze_Medals  Total_Medals\n",
       "0  CHN          350            347            292           989\n",
       "1  DEN          179            241            177           597\n",
       "2  NED          287            340            413          1040\n",
       "3  USA         2638           1641           1358          5637\n",
       "4  FIN          198            270            432           900"
      ]
     },
     "execution_count": 182,
     "metadata": {},
     "output_type": "execute_result"
    }
   ],
   "source": [
    "#creates a dataframe that holds each country gold, silver, bronze, and total counts\n",
    "country_medal_df = pd.DataFrame(countryNoc)\n",
    "country_medal_df[\"Gold_Medals\"]=country_gold_list\n",
    "country_medal_df[\"Silver_Medals\"]=country_silver_list\n",
    "country_medal_df[\"Bronze_Medals\"]=country_bronze_list\n",
    "#changes '0' column name into 'NOC'\n",
    "country_medal_df=country_medal_df.rename(columns={0:\"NOC\"})\n",
    "#sets the sum of each countries total medal count into the dataframe\n",
    "country_medal_df[\"Total_Medals\"]=country_medal_df.sum(axis=1)\n",
    "country_medal_df.head()"
   ]
  },
  {
   "cell_type": "code",
   "execution_count": 183,
   "metadata": {},
   "outputs": [],
   "source": [
    "#filters out data of for height values of 0\n",
    "heights_df = olypmic_df[olypmic_df.Height>0]\n",
    "#sorts height data be sex\n",
    "heights_m_df =  heights_df[heights_df.Sex==\"M\"]\n",
    "heights_f_df =  heights_df[heights_df.Sex==\"F\"]"
   ]
  },
  {
   "cell_type": "code",
   "execution_count": 184,
   "metadata": {},
   "outputs": [],
   "source": [
    "#groups eight values by year\n",
    "m_avg_h=heights_m_df.groupby(\"Year\")[\"Height\"].mean()\n",
    "f_avg_h=heights_f_df.groupby(\"Year\")[\"Height\"].mean()\n",
    "#creates two sepereate height data frames by sex\n",
    "mheight_df =  pd.DataFrame(m_avg_h)\n",
    "fheight_df =  pd.DataFrame(f_avg_h)"
   ]
  },
  {
   "cell_type": "code",
   "execution_count": 185,
   "metadata": {},
   "outputs": [],
   "source": [
    "#merges both data frames\n",
    "mheight_df['Female_Height']=fheight_df.Height\n",
    "combined_height=mheight_df.rename(columns={\"Height\":\"Male_Height\"})"
   ]
  },
  {
   "cell_type": "code",
   "execution_count": 186,
   "metadata": {},
   "outputs": [],
   "source": [
    "#renames columns\n",
    "combined_height=combined_height.rename(columns={\"Year\":\"year\",\"Male_Height\":\"male_height\",\"Female_Height\":\"female_height\"})"
   ]
  },
  {
   "cell_type": "code",
   "execution_count": 187,
   "metadata": {},
   "outputs": [
    {
     "data": {
      "text/html": [
       "<div>\n",
       "<style scoped>\n",
       "    .dataframe tbody tr th:only-of-type {\n",
       "        vertical-align: middle;\n",
       "    }\n",
       "\n",
       "    .dataframe tbody tr th {\n",
       "        vertical-align: top;\n",
       "    }\n",
       "\n",
       "    .dataframe thead th {\n",
       "        text-align: right;\n",
       "    }\n",
       "</style>\n",
       "<table border=\"1\" class=\"dataframe\">\n",
       "  <thead>\n",
       "    <tr style=\"text-align: right;\">\n",
       "      <th></th>\n",
       "      <th>NOC</th>\n",
       "      <th>Gold_Medals</th>\n",
       "      <th>Silver_Medals</th>\n",
       "      <th>Bronze_Medals</th>\n",
       "      <th>Total_Medals</th>\n",
       "    </tr>\n",
       "  </thead>\n",
       "  <tbody>\n",
       "    <tr>\n",
       "      <th>0</th>\n",
       "      <td>CHN</td>\n",
       "      <td>350</td>\n",
       "      <td>347</td>\n",
       "      <td>292</td>\n",
       "      <td>989</td>\n",
       "    </tr>\n",
       "    <tr>\n",
       "      <th>1</th>\n",
       "      <td>DEN</td>\n",
       "      <td>179</td>\n",
       "      <td>241</td>\n",
       "      <td>177</td>\n",
       "      <td>597</td>\n",
       "    </tr>\n",
       "    <tr>\n",
       "      <th>2</th>\n",
       "      <td>NED</td>\n",
       "      <td>287</td>\n",
       "      <td>340</td>\n",
       "      <td>413</td>\n",
       "      <td>1040</td>\n",
       "    </tr>\n",
       "    <tr>\n",
       "      <th>3</th>\n",
       "      <td>USA</td>\n",
       "      <td>2638</td>\n",
       "      <td>1641</td>\n",
       "      <td>1358</td>\n",
       "      <td>5637</td>\n",
       "    </tr>\n",
       "    <tr>\n",
       "      <th>4</th>\n",
       "      <td>FIN</td>\n",
       "      <td>198</td>\n",
       "      <td>270</td>\n",
       "      <td>432</td>\n",
       "      <td>900</td>\n",
       "    </tr>\n",
       "  </tbody>\n",
       "</table>\n",
       "</div>"
      ],
      "text/plain": [
       "   NOC  Gold_Medals  Silver_Medals  Bronze_Medals  Total_Medals\n",
       "0  CHN          350            347            292           989\n",
       "1  DEN          179            241            177           597\n",
       "2  NED          287            340            413          1040\n",
       "3  USA         2638           1641           1358          5637\n",
       "4  FIN          198            270            432           900"
      ]
     },
     "execution_count": 187,
     "metadata": {},
     "output_type": "execute_result"
    }
   ],
   "source": [
    "#creating and setting primary key\n",
    "x=len(combined_height.male_height)\n",
    "val=[]\n",
    "t=0\n",
    "while t < x:\n",
    "    val.append(t+1)\n",
    "    t+=1\n",
    "val\n",
    "combined_height[\"id\"]=val\n",
    "combined_height[\"year\"]=combined_height.index\n",
    "combined_height=combined_height.set_index('id')\n",
    "country_medal_df.head()"
   ]
  },
  {
   "cell_type": "code",
   "execution_count": 188,
   "metadata": {},
   "outputs": [
    {
     "data": {
      "text/html": [
       "<div>\n",
       "<style scoped>\n",
       "    .dataframe tbody tr th:only-of-type {\n",
       "        vertical-align: middle;\n",
       "    }\n",
       "\n",
       "    .dataframe tbody tr th {\n",
       "        vertical-align: top;\n",
       "    }\n",
       "\n",
       "    .dataframe thead th {\n",
       "        text-align: right;\n",
       "    }\n",
       "</style>\n",
       "<table border=\"1\" class=\"dataframe\">\n",
       "  <thead>\n",
       "    <tr style=\"text-align: right;\">\n",
       "      <th></th>\n",
       "      <th>NOC</th>\n",
       "      <th>Gold_Medals</th>\n",
       "      <th>Silver_Medals</th>\n",
       "      <th>Bronze_Medals</th>\n",
       "      <th>Total_Medals</th>\n",
       "    </tr>\n",
       "    <tr>\n",
       "      <th>id</th>\n",
       "      <th></th>\n",
       "      <th></th>\n",
       "      <th></th>\n",
       "      <th></th>\n",
       "      <th></th>\n",
       "    </tr>\n",
       "  </thead>\n",
       "  <tbody>\n",
       "    <tr>\n",
       "      <th>1</th>\n",
       "      <td>CHN</td>\n",
       "      <td>350</td>\n",
       "      <td>347</td>\n",
       "      <td>292</td>\n",
       "      <td>989</td>\n",
       "    </tr>\n",
       "    <tr>\n",
       "      <th>2</th>\n",
       "      <td>DEN</td>\n",
       "      <td>179</td>\n",
       "      <td>241</td>\n",
       "      <td>177</td>\n",
       "      <td>597</td>\n",
       "    </tr>\n",
       "    <tr>\n",
       "      <th>3</th>\n",
       "      <td>NED</td>\n",
       "      <td>287</td>\n",
       "      <td>340</td>\n",
       "      <td>413</td>\n",
       "      <td>1040</td>\n",
       "    </tr>\n",
       "    <tr>\n",
       "      <th>4</th>\n",
       "      <td>USA</td>\n",
       "      <td>2638</td>\n",
       "      <td>1641</td>\n",
       "      <td>1358</td>\n",
       "      <td>5637</td>\n",
       "    </tr>\n",
       "    <tr>\n",
       "      <th>5</th>\n",
       "      <td>FIN</td>\n",
       "      <td>198</td>\n",
       "      <td>270</td>\n",
       "      <td>432</td>\n",
       "      <td>900</td>\n",
       "    </tr>\n",
       "  </tbody>\n",
       "</table>\n",
       "</div>"
      ],
      "text/plain": [
       "    NOC  Gold_Medals  Silver_Medals  Bronze_Medals  Total_Medals\n",
       "id                                                              \n",
       "1   CHN          350            347            292           989\n",
       "2   DEN          179            241            177           597\n",
       "3   NED          287            340            413          1040\n",
       "4   USA         2638           1641           1358          5637\n",
       "5   FIN          198            270            432           900"
      ]
     },
     "execution_count": 188,
     "metadata": {},
     "output_type": "execute_result"
    }
   ],
   "source": [
    "#creating and setting primary keys\n",
    "val=[]\n",
    "x = len(country_medal_df.NOC)\n",
    "val=[]\n",
    "t=0\n",
    "while t<x:\n",
    "    val.append(t+1)\n",
    "    t+=1\n",
    "country_medal_df['id']=val\n",
    "country_medal_df=country_medal_df.set_index('id')\n",
    "country_medal_df.head()"
   ]
  },
  {
   "cell_type": "code",
   "execution_count": 189,
   "metadata": {},
   "outputs": [],
   "source": [
    "#saving data frames as csvs\n",
    "olypmic_df.to_csv(\"olympic_data.csv\")\n",
    "country_medal_df.to_csv(\"country_medal.csv\")\n",
    "combined_height.to_csv(\"combined_height_avg.csv\")"
   ]
  },
  {
   "cell_type": "code",
   "execution_count": 190,
   "metadata": {},
   "outputs": [],
   "source": [
    "#creating a connection to pgadmin database\n",
    "rds_connection_string = \"postgres:postgres@localhost:5432/olympic_stats\"\n",
    "engine = create_engine(f'postgresql://{rds_connection_string}')"
   ]
  },
  {
   "cell_type": "code",
   "execution_count": 192,
   "metadata": {},
   "outputs": [],
   "source": [
    "#creates and fills in tables\n",
    "combined_height.to_sql(name='combined_height_average', con=engine, if_exists='append', index=True)"
   ]
  },
  {
   "cell_type": "code",
   "execution_count": 193,
   "metadata": {},
   "outputs": [],
   "source": [
    "country_medal_df.to_sql(name='country_medal_stats', con=engine, if_exists='append', index=True)"
   ]
  },
  {
   "cell_type": "code",
   "execution_count": 1,
   "metadata": {},
   "outputs": [],
   "source": [
    "#pd.read_sql_query('select * from country_medal_stats', con=engine).head()"
   ]
  },
  {
   "cell_type": "code",
   "execution_count": 195,
   "metadata": {},
   "outputs": [],
   "source": [
    "import csv_to_sqlite"
   ]
  },
  {
   "cell_type": "code",
   "execution_count": 196,
   "metadata": {},
   "outputs": [
    {
     "name": "stdout",
     "output_type": "stream",
     "text": [
      "Written 230 rows into 1 tables in 0.024 seconds\n",
      "Written 35 rows into 1 tables in 0.018 seconds\n"
     ]
    },
    {
     "data": {
      "text/plain": [
       "35"
      ]
     },
     "execution_count": 196,
     "metadata": {},
     "output_type": "execute_result"
    }
   ],
   "source": [
    "#creating sqlite files for falsk\n",
    "options=csv_to_sqlite.CsvOptions(typing_style=\"full\",encoding=\"windows-1250\")\n",
    "csv_to_sqlite.write_csv([\"country_medal.csv\"], \"medals.sqlite\", options)\n",
    "csv_to_sqlite.write_csv([\"combined_height_avg.csv\"], \"height.sqlite\", options)\n",
    "#csv_to_sqlite.write_csv([\"olympic_data.csv\"], \"olympics.sqlite\", options)"
   ]
  },
  {
   "cell_type": "code",
   "execution_count": null,
   "metadata": {},
   "outputs": [],
   "source": []
  },
  {
   "cell_type": "code",
   "execution_count": null,
   "metadata": {},
   "outputs": [],
   "source": []
  },
  {
   "cell_type": "code",
   "execution_count": null,
   "metadata": {},
   "outputs": [],
   "source": []
  },
  {
   "cell_type": "code",
   "execution_count": null,
   "metadata": {},
   "outputs": [],
   "source": []
  },
  {
   "cell_type": "code",
   "execution_count": null,
   "metadata": {},
   "outputs": [],
   "source": []
  }
 ],
 "metadata": {
  "kernelspec": {
   "display_name": "Python 3",
   "language": "python",
   "name": "python3"
  },
  "language_info": {
   "codemirror_mode": {
    "name": "ipython",
    "version": 3
   },
   "file_extension": ".py",
   "mimetype": "text/x-python",
   "name": "python",
   "nbconvert_exporter": "python",
   "pygments_lexer": "ipython3",
   "version": "3.8.3"
  }
 },
 "nbformat": 4,
 "nbformat_minor": 4
}
